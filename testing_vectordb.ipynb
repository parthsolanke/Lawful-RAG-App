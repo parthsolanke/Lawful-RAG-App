{
 "cells": [
  {
   "cell_type": "code",
   "execution_count": 1,
   "metadata": {},
   "outputs": [
    {
     "name": "stderr",
     "output_type": "stream",
     "text": [
      "c:\\Users\\Parth Solanke\\AppData\\Local\\Programs\\Python\\Python39\\lib\\site-packages\\langchain_core\\_api\\deprecation.py:117: LangChainDeprecationWarning: The class `langchain_community.embeddings.openai.OpenAIEmbeddings` was deprecated in langchain-community 0.1.0 and will be removed in 0.2.0. An updated version of the class exists in the langchain-openai package and should be used instead. To use it run `pip install -U langchain-openai` and import as `from langchain_openai import OpenAIEmbeddings`.\n",
      "  warn_deprecated(\n"
     ]
    }
   ],
   "source": [
    "import os\n",
    "import openai\n",
    "from langchain.vectorstores import Chroma\n",
    "from langchain.embeddings.openai import OpenAIEmbeddings\n",
    "openai.api_key  = os.environ['OPENAI_API_KEY']\n",
    "persist_directory = \"./db/vectorstore\"\n",
    "embedding = OpenAIEmbeddings()"
   ]
  },
  {
   "cell_type": "code",
   "execution_count": 2,
   "metadata": {},
   "outputs": [],
   "source": [
    "vectordb = Chroma(\n",
    "    embedding_function=embedding,\n",
    "    persist_directory=persist_directory\n",
    ")"
   ]
  },
  {
   "cell_type": "code",
   "execution_count": 14,
   "metadata": {},
   "outputs": [
    {
     "data": {
      "text/plain": [
       "3"
      ]
     },
     "execution_count": 14,
     "metadata": {},
     "output_type": "execute_result"
    }
   ],
   "source": [
    "# Similarity search\n",
    "question = \"What are punishments stealing individual's property?\"\n",
    "docs = vectordb.similarity_search(question,k=3)\n",
    "len(docs)"
   ]
  },
  {
   "cell_type": "code",
   "execution_count": 15,
   "metadata": {},
   "outputs": [
    {
     "name": "stdout",
     "output_type": "stream",
     "text": [
      "page_content='95 \\n 413. Habitual ly dealing in stolen property. —Whoever habitually receives or deals in property \\nwhich he knows or has reason to believe to be stolen property, shall be punished with 1[imprisonment for \\nlife], or with imprisonment of either description for a term which may extend to ten years, an d shall also \\nbe liable to fine.  \\n414. Assisting in c oncealment of stolen property .—Whoever voluntarily assists in concealing or \\ndisposing of or making away with property which he knows or has reason to believe to be stolen property, \\nshall be punished with imprisonment of either description for a term which may extend to three yea rs, or \\nwith fine, or with both.  \\nOf Cheating  \\n415. Cheating .—Whoever, by deceiving any person, fraudulently or dishonestly induces the person \\nso deceived to deliver any property to any person, or to consent that any person shall retain any property, \\nor intentionally induces the person so decei ved to do or omit to do anything which he would not do or \\nomit if he were not so deceived, and which act or omission causes or is likely to cause damage or harm to \\nthat person in body, mind, reputation or property, is said to “cheat ”. \\nExplanation .—A dishonest concealment of facts is a deception within the meaning of this section.  \\nIllustrations  \\n(a) A, by falsely pretending to be in the Civil Service, intentionally deceives Z, and thus dishonestly induces Z to let him \\nhave on credit goods for w hich he d oes not mean to pay. A cheat s.' metadata={'page': 94, 'source': './docs/IPC-Act.pdf'}\n",
      "{'page': 94, 'source': './docs/IPC-Act.pdf'}\n",
      "\n",
      "page_content=\"Of Crimin al Misappropriation of Property  \\n403. Dishonest  misappropriation of property .—Whoever dishonestly misappropriates or converts \\nto his own use any movable property, shall be punished with imprisonment of either description for a \\nterm which may extend to two yea rs, or with fine, or with both.  \\nIllustrations  \\n(a) A takes property belonging to Z out o f Z's possession , in good faith believing at the time when he takes it, that the \\nproperty belongs to himself. A is not guilty of theft; but if A, after discovering his mistake, dishonestly appropriates the property \\nto his own use, he is guilty of an offence under this section.  \\n(b) A, being on friendly terms with Z, goes into Z's library in Z's absence , and takes away a book without Z's express \\nconsent. Here, if A was under the impression that he had Z's implied consent to take the book for the purpose of reading it, A has \\nnot committed theft. But, if A afterwards sells the book for his own benef it, he is guilty of  an offence under this section.  \\n(c) A and B , being , joint owners of a horse, A takes the horse out of B's possession, intending to use it. Here , as A has a right \\nto use the horse, he does not dishonestly misappropriate it. But, if A sell s the horse and appropriates the whole proceeds to his \\nown use, he is guilty of an offence under this section.  \\nExplanation 1 .—A dishonest misappropriation for a time only is a misappropriation wi th the meaning \\nof this section.  \\nIllustration\" metadata={'page': 91, 'source': './docs/IPC-Act.pdf'}\n",
      "{'page': 91, 'source': './docs/IPC-Act.pdf'}\n",
      "\n",
      "page_content='commits criminal breach of trust in respect of that pro perty, shall be punished with 1[imprisonment for \\nlife], or with imprisonment of either description for a term which may extend to ten years, an d shall also \\nbe liable to fine.  \\nOf the Receiving of Stolen Property  \\n410. Stolen property .—Property, the possession whereof has been transferred by theft, or by \\nextortion, or by robbery, and property which has been criminally misappro priated or in respect of which \\n2*** 3***criminal breach of trust has been committed, is designated as “stolen property ”, 4[whether the \\ntransfer has been made, or the misappropriation or breach of trust has been  committed, within or without \\n5[India]]. But, if such property subsequently comes into the possession of a person legally entitled to the \\npossession thereof, it the n ceases to be stolen property.  \\n411. Dishones tly receiving stolen  property .—Whoever dishonestly receives or retains any stolen \\nproperty, knowing or having reason to believe the same to be stolen property, shall be punished with \\nimprisonment of either description for a term which may extend to three years, or with fine, or with both.  \\n412. Dishonestly receiving property stolen i n the commission of a dacoity .—Whoever dishonestly \\nreceives or retains any stolen property, the possession whereof he knows or has reason to believe to have \\nbeen transferred by the commission of dacoity, or dishonestly receives from a person, whom he knows or' metadata={'page': 93, 'source': './docs/IPC-Act.pdf'}\n",
      "{'page': 93, 'source': './docs/IPC-Act.pdf'}\n",
      "\n"
     ]
    }
   ],
   "source": [
    "for doc in docs:\n",
    "    print(doc)\n",
    "    print(doc.metadata)\n",
    "    print(\"\")"
   ]
  },
  {
   "cell_type": "code",
   "execution_count": 21,
   "metadata": {},
   "outputs": [
    {
     "data": {
      "text/plain": [
       "2"
      ]
     },
     "execution_count": 21,
     "metadata": {},
     "output_type": "execute_result"
    }
   ],
   "source": [
    "# Max Marginal Relevance search\n",
    "question = \"What is the punishment for posting a fake news?\"\n",
    "docs = vectordb.max_marginal_relevance_search(question,k=2, fetch_k=3)\n",
    "len(docs)"
   ]
  },
  {
   "cell_type": "code",
   "execution_count": 22,
   "metadata": {},
   "outputs": [
    {
     "name": "stdout",
     "output_type": "stream",
     "text": [
      "page_content='makes, publishes or circulates any statement or report containing rumour or alarming news with intent to \\ncreate or promote, or which is likely to create or promote, on grounds of religion, race,  place of birth, \\nresidence, language, caste or community or any other ground whatsoever, feelings of enmity, hatred or ill -\\nwill between different religious, racial, language or regional groups or castes or communities, shall be \\npunished with imprisonment w hich may extend to three yea rs, or with fine, or with both.  \\n(3) Offence under sub -section ( 2) commi tted in place of worship, etc .—Whoever commits an \\noffence specified in sub -section ( 2) in any place of worship or in any assembly engaged in the \\nperformance of religious worship or religious ceremonies, shall be punished with imprisonment which \\nmay extend to five years and  shall also be liable to fine.]  \\nException .—It does not amount to an offence, within the meaning of this section, when the person \\nmaking, pub lishing or circulating any such statement, rumour or report, has reasonable grounds for \\nbelieving that such statement, rumour or report is true and makes, publishes or circulates it 2[in good faith \\nand] without  any such intent as aforesaid.]  \\n506. Punishment for criminal intimidation .—Whoever commits the offence of criminal \\nintimidation shall be punished with imprisonment of either description for a term which may extend to \\ntwo yea rs, or with fine, or with both;' metadata={'page': 110, 'source': './docs/IPC-Act.pdf'}\n",
      "{'page': 110, 'source': './docs/IPC-Act.pdf'}\n",
      "\n",
      "page_content='to cause loss to Government, erases or removes from a stamp issued by Government for the purpose of \\nrevenue, any mark, put or impressed upon such stamp for the purpose of denoting that the same has been \\nused, or knowing ly has in his possession or sells or disposes of any such stamp from which such mark has \\nbeen erased or removed, or sells or disposes of any such stamp which he knows to have been used, shall \\nbe punished with imprisonment of either description for a term w hich may extend to three years, or with \\nfine, or with both.  \\n1[263A. Pro hibition of fictitious stamps .—(1) Whoever — \\n(a) makes, knowingly utters, deals in or sells any fictitious stamp, or knowingly uses for any \\npostal p urpose any fictitious stamp, or  \\n(b) has in his possession, without lawful e xcuse, any fictitious stamp, or  \\n(c) makes or, without lawful excuse, has in his possession any die, plate, instrument or materials \\nfor making any fictitious stamp,  \\nshall be punished with fine which may extend to two hundred rupees.  \\n(2) Any such stamp, die, plate, instrument or materials in the possession of any person for making any \\nfictitious stamp 2[may be seized and,  if seized] shall be forfeited.  \\n(3) In this section “fictitious stamp ” means any stamp falsely purpo rting to be issued by Government \\nfor the purpose of denoting a rate of postage, or any facsimile or imitation or representation, whether on \\npaper or otherwise, of any stamp issued by Government for that purpose.' metadata={'page': 63, 'source': './docs/IPC-Act.pdf'}\n",
      "{'page': 63, 'source': './docs/IPC-Act.pdf'}\n",
      "\n"
     ]
    }
   ],
   "source": [
    "for doc in docs:\n",
    "    print(doc)\n",
    "    print(doc.metadata)\n",
    "    print(\"\")"
   ]
  },
  {
   "cell_type": "code",
   "execution_count": 26,
   "metadata": {},
   "outputs": [
    {
     "data": {
      "text/plain": [
       "3"
      ]
     },
     "execution_count": 26,
     "metadata": {},
     "output_type": "execute_result"
    }
   ],
   "source": [
    "# Specifying the metadata in similarity search\n",
    "question = \"What are punishments for breaking a contract?\"\n",
    "docs = vectordb.similarity_search(\n",
    "    question,\n",
    "    k=3,\n",
    "    filter={\"source\":\"./docs/Indian_Contract_Act.pdf\"}\n",
    "    )\n",
    "len(docs)"
   ]
  },
  {
   "cell_type": "code",
   "execution_count": 27,
   "metadata": {},
   "outputs": [
    {
     "name": "stdout",
     "output_type": "stream",
     "text": [
      "page_content='been broken, if a sum is named in the contract as the amount to be paid in case of such breach, or if the \\ncontract contains any other stipulation by  way of penalty, the party complaining of the breach is entitled, \\nwhether or not actual damage or loss is proved to have been caused thereby, to receive from the party who \\nhas broken the contract reasonable compensation not exceeding the amount so named or, as the case may \\nbe, the p enalty stipulated for.  \\nExplanation .—A stipulation for increased interest from the date of default may be a stipulation by \\nway of penalty.]  \\nException .—When any person ente rs into any bail -bond, recogni zance or other instrument of the \\nsame nature, or, under the provisions of any la w, or under the orders of the 2[Central Government] or of \\nany 3[State Government ], gives any bond for the performance of any public duty or act in which the \\npublic are interested, he shall be liable, upon breach of the condition of any such instrument, to pay t he \\nwhole sum mentioned therein.  \\nExplanation .—A person who enters into a contract with Government does not necessarily thereby \\nundertake any public duty, or promise to do an act in w hich the public are interested.  \\nIllustrations  \\n(a)A contracts with B to pay B Rs. 1,000, if he fails to pay B Rs. 500 on a given day. A fails to pay B Rs. 500  on that day. B \\nis entitled to recover from A such compensation, not exceeding Rs. 1,000, as the Court considers reasonable.' metadata={'page': 30, 'source': './docs/Indian_Contract_Act.pdf'}\n",
      "{'page': 30, 'source': './docs/Indian_Contract_Act.pdf'}\n",
      "\n",
      "page_content='January, the hire obtainable for the ship is higher than the contract price. A breaks his promise. He must pay to B, by way o f \\ncompensation, a sum equal to the difference between the contract price and the price for which B could hire a similar ship for a \\nyear on  and from the first of January.  \\n(h) A contracts to supply B with a certain quantity of iron at a fixed price, being a higher price than that for which A could \\nprocure and deliver the iron. B wrongfully refuses to receive the iron. B must pay to A, by way of compensation, the differen ce \\nbetween the contract price of the iron and the sum for which A could have obtained and delivered it.  \\n(i) A delivers to B, a common carrier, a machine, to be conveyed, without delay, to A ’s mill   informing B that his mill is \\nstopped for want of the machine. B unreasonably delays the delivery of the machine, and A, in consequence, loses a profitable \\ncontract with the Government. A is entitled to receive from B, by way of compensation, the average amount of profit which \\nwould have b een made by the working of the mill during the time that delivery of it was delayed, but not the loss sustained \\nthrough the l oss of the Government contract.  \\n(j) A, having contracted with B to supply B with 1,000 tons of iron at 100 rupees a ton, to be delivered at a stated time, \\ncontracts with C for the pur chase of 1,000 tons of iron at 80 rupees a ton, telling C that he does so for the purpose of performing' metadata={'page': 29, 'source': './docs/Indian_Contract_Act.pdf'}\n",
      "{'page': 29, 'source': './docs/Indian_Contract_Act.pdf'}\n",
      "\n",
      "page_content='(d) A contracts  to buy B ’s ship for 60,000 rupees, but breaks his promise. A must pay to B, by way of compensation, the \\nexcess, if any, of the contract price over the price which B can obtain for the ship at the  time of the breach of promise.  \\n(e) A, the owner of a boat, contracts with B to take a cargo of jute to Mirzapur, for sale at that place, starting on a specified \\nday. The boat, owing to some avoidable cause, does not start at the time appointed, whereby the arrival of the cargo at Mirza pur \\nis delayed beyond the tim e when it would have arrived if the boat had sailed according to the contract. After that date, and before \\nthe arrival of the cargo, the price of jute falls. The measure of the compensation payable to B by A is the difference betwee n the \\nprice which B coul d have obtained for the cargo at Mirzapur at the time when it would have arrived if forwarded in due course, \\nand its market price at the  time when it actually arrived.  \\n(f) A contracts to repair B ’s house in a certain manner, and receives payment in advance . A repairs the house, but not \\naccording to contract. B is entitled to recover from A the cost of making the r epairs conform to the contract.  \\n(g) A contracts to let his ship to B for a year, from the first of January, for a certain price. Freights rise, an d, on the first of \\nJanuary, the hire obtainable for the ship is higher than the contract price. A breaks his promise. He must pay to B, by way o f' metadata={'page': 29, 'source': './docs/Indian_Contract_Act.pdf'}\n",
      "{'page': 29, 'source': './docs/Indian_Contract_Act.pdf'}\n",
      "\n"
     ]
    }
   ],
   "source": [
    "for doc in docs:\n",
    "    print(doc)\n",
    "    print(doc.metadata)\n",
    "    print(\"\")"
   ]
  },
  {
   "cell_type": "code",
   "execution_count": null,
   "metadata": {},
   "outputs": [],
   "source": [
    "# More techniques for retrieval of data from vector-database\n",
    "# self-query retriever: Infer the metadata from the query itself\n",
    "# ContextualCompressionRetriever: compress most relevant information for query context\n",
    "# SVMRetriever: Support Vector Machine based retriever\n",
    "# TFIDFRetriever: Term Frequency Inverse Document Frequency based retriever"
   ]
  }
 ],
 "metadata": {
  "kernelspec": {
   "display_name": "Python 3",
   "language": "python",
   "name": "python3"
  },
  "language_info": {
   "codemirror_mode": {
    "name": "ipython",
    "version": 3
   },
   "file_extension": ".py",
   "mimetype": "text/x-python",
   "name": "python",
   "nbconvert_exporter": "python",
   "pygments_lexer": "ipython3",
   "version": "3.9.9"
  }
 },
 "nbformat": 4,
 "nbformat_minor": 2
}
