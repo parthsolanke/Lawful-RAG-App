{
 "cells": [
  {
   "cell_type": "code",
   "execution_count": 18,
   "metadata": {},
   "outputs": [],
   "source": [
    "import os\n",
    "import openai\n",
    "from langchain.chains import RetrievalQA\n",
    "from langchain.vectorstores import Chroma\n",
    "from langchain.chat_models import ChatOpenAI\n",
    "from langchain.prompts import PromptTemplate\n",
    "from langchain.memory import ConversationBufferMemory\n",
    "from langchain.chains import ConversationalRetrievalChain\n",
    "from langchain.embeddings.openai import OpenAIEmbeddings\n",
    "openai.api_key  = os.environ['OPENAI_API_KEY']\n",
    "persist_directory = \"./db/vectorstore\"\n",
    "llm_name = \"gpt-3.5-turbo\""
   ]
  },
  {
   "cell_type": "code",
   "execution_count": 8,
   "metadata": {},
   "outputs": [],
   "source": [
    "embedding = OpenAIEmbeddings()\n",
    "vectordb = Chroma(persist_directory=persist_directory, embedding_function=embedding)\n",
    "llm = ChatOpenAI(model_name=llm_name, temperature=0)"
   ]
  },
  {
   "cell_type": "code",
   "execution_count": 12,
   "metadata": {},
   "outputs": [
    {
     "data": {
      "text/plain": [
       "'Hello! How can I assist you today?'"
      ]
     },
     "execution_count": 12,
     "metadata": {},
     "output_type": "execute_result"
    }
   ],
   "source": [
    "llm.predict(\"Hi!\")"
   ]
  },
  {
   "cell_type": "code",
   "execution_count": 13,
   "metadata": {},
   "outputs": [],
   "source": [
    "# Building Prompt\n",
    "template = \"\"\"You are a legal assistance chatbot for Indian Laws,\n",
    "use the following pieces of context to answer the question at the end.\n",
    "If you don't know the answer, just say that you don't know, don't try to make up an answer.\n",
    "Use 5 sentences maximum. Keep the answer as concise as possible.\n",
    "Always say \"seek expert Legal Advice for more information and assistance.\" at the end of the answer. \n",
    "{context}\n",
    "Question: {question}\n",
    "Helpful Answer:\"\"\"\n",
    "QA_CHAIN_PROMPT = PromptTemplate(input_variables=[\"context\", \"question\"],template=template)"
   ]
  },
  {
   "cell_type": "code",
   "execution_count": 14,
   "metadata": {},
   "outputs": [],
   "source": [
    "# Retrieval QA Chain\n",
    "qa_chain = RetrievalQA.from_chain_type(llm,\n",
    "                                       retriever=vectordb.as_retriever(),\n",
    "                                       return_source_documents=True,\n",
    "                                       chain_type_kwargs={\"prompt\": QA_CHAIN_PROMPT})"
   ]
  },
  {
   "cell_type": "code",
   "execution_count": 16,
   "metadata": {},
   "outputs": [
    {
     "data": {
      "text/plain": [
       "'If your explicit pictures are leaked online without your consent, you should immediately report the incident to the police and provide them with all the necessary evidence. This act falls under the offense of voyeurism and dissemination of private images without consent, which is punishable under Section 354C of the Indian Penal Code. Seek expert Legal Advice for more information and assistance.'"
      ]
     },
     "execution_count": 16,
     "metadata": {},
     "output_type": "execute_result"
    }
   ],
   "source": [
    "question = \"What should I do if my explicit pictures are leaked online without my consent? What acts are punishable?\"\n",
    "result = qa_chain({\"query\": question})\n",
    "result[\"result\"]"
   ]
  },
  {
   "cell_type": "code",
   "execution_count": 19,
   "metadata": {},
   "outputs": [],
   "source": [
    "# Memory for the chatbot\n",
    "memory = ConversationBufferMemory(\n",
    "    memory_key=\"chat_history\",\n",
    "    return_messages=True\n",
    ")"
   ]
  },
  {
   "cell_type": "code",
   "execution_count": 21,
   "metadata": {},
   "outputs": [],
   "source": [
    "# Conversational Retrieval Chain\n",
    "retriever=vectordb.as_retriever()\n",
    "qa = ConversationalRetrievalChain.from_llm(\n",
    "    llm,\n",
    "    retriever=retriever,\n",
    "    memory=memory\n",
    ")"
   ]
  },
  {
   "cell_type": "code",
   "execution_count": 23,
   "metadata": {},
   "outputs": [
    {
     "data": {
      "text/plain": [
       "'If your explicit pictures are leaked online without your consent, you should take the following steps:\\n\\n1. Report the incident to the police: Contact your local law enforcement agency and provide them with all the necessary information and evidence.\\n\\n2. Preserve evidence: Take screenshots or save any evidence related to the incident, such as messages or posts, before they are deleted.\\n\\n3. Inform the website or platform: Contact the website or platform where the pictures were posted and request that they be taken down. Provide them with any relevant information or evidence.\\n\\n4. Seek legal advice: Consult with a lawyer who specializes in cybercrime or privacy laws to understand your legal options and rights.\\n\\nIn terms of the acts that are punishable, the specific laws may vary depending on the jurisdiction. However, in many countries, the following acts are considered offenses:\\n\\n1. Non-consensual distribution of intimate images: If someone shares or disseminates explicit pictures of you without your consent, it may be considered a crime.\\n\\n2. Voyeurism: Capturing or disseminating images of a person engaged in a private act without their consent is generally considered a punishable offense.\\n\\n3. Stalking: If someone repeatedly follows or contacts you despite your clear indication of disinterest, it may be considered stalking, which is a punishable offense.\\n\\n4. Sexual harassment: Acts such as physical contact, unwelcome sexual advances, demands for sexual favors, or making sexually colored remarks can be considered sexual harassment and are punishable by law.\\n\\nIt is important to consult with a legal professional who can provide accurate information based on the specific laws in your jurisdiction.'"
      ]
     },
     "execution_count": 23,
     "metadata": {},
     "output_type": "execute_result"
    }
   ],
   "source": [
    "question = \"What should I do if my explicit pictures are leaked online without my consent? What acts are punishable?\"\n",
    "result = qa({\"question\": question})\n",
    "result['answer']"
   ]
  },
  {
   "cell_type": "code",
   "execution_count": 24,
   "metadata": {},
   "outputs": [
    {
     "data": {
      "text/plain": [
       "\"If a website is asking you to pay money to take down pictures, you should consider the following steps:\\n\\n1. Review the website's terms and conditions: Check if there are any provisions regarding the removal of content and if any fees are mentioned. \\n\\n2. Contact the website: Reach out to the website's support or contact information and inquire about their policy for removing content. Ask if there are any alternatives to paying a fee.\\n\\n3. Seek legal advice: If the website is demanding payment without any legitimate reason or if you believe your rights are being violated, consult with a lawyer who specializes in internet law or intellectual property rights. They can provide guidance on the best course of action.\\n\\n4. Report the issue: If the website is engaging in illegal activities or violating any laws, you can report the issue to the appropriate authorities or organizations responsible for regulating online content.\\n\\nRemember, it is important to approach the situation cautiously and seek professional advice if needed.\""
      ]
     },
     "execution_count": 24,
     "metadata": {},
     "output_type": "execute_result"
    }
   ],
   "source": [
    "question = \"Now the website is asking me to pay money to take down the pictures, what should I do?\"\n",
    "result = qa({\"question\": question})\n",
    "result['answer']"
   ]
  },
  {
   "cell_type": "code",
   "execution_count": null,
   "metadata": {},
   "outputs": [],
   "source": []
  }
 ],
 "metadata": {
  "kernelspec": {
   "display_name": "Python 3",
   "language": "python",
   "name": "python3"
  },
  "language_info": {
   "codemirror_mode": {
    "name": "ipython",
    "version": 3
   },
   "file_extension": ".py",
   "mimetype": "text/x-python",
   "name": "python",
   "nbconvert_exporter": "python",
   "pygments_lexer": "ipython3",
   "version": "3.9.9"
  }
 },
 "nbformat": 4,
 "nbformat_minor": 2
}
