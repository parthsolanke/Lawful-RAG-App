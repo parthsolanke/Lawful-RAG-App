{
 "cells": [
  {
   "cell_type": "code",
   "execution_count": 1,
   "metadata": {},
   "outputs": [
    {
     "name": "stderr",
     "output_type": "stream",
     "text": [
      "c:\\Users\\Parth Solanke\\AppData\\Local\\Programs\\Python\\Python39\\lib\\site-packages\\langchain_core\\_api\\deprecation.py:117: LangChainDeprecationWarning: The class `langchain_community.embeddings.openai.OpenAIEmbeddings` was deprecated in langchain-community 0.1.0 and will be removed in 0.2.0. An updated version of the class exists in the langchain-openai package and should be used instead. To use it run `pip install -U langchain-openai` and import as `from langchain_openai import OpenAIEmbeddings`.\n",
      "  warn_deprecated(\n"
     ]
    }
   ],
   "source": [
    "import os\n",
    "import openai\n",
    "from langchain.vectorstores import Chroma\n",
    "from langchain.document_loaders import PyPDFLoader\n",
    "from langchain.embeddings.openai import OpenAIEmbeddings\n",
    "from langchain.text_splitter import RecursiveCharacterTextSplitter\n",
    "openai.api_key  = os.environ['OPENAI_API_KEY']\n",
    "embedding = OpenAIEmbeddings()\n",
    "persist_directory = \"./db/vectorstore\""
   ]
  },
  {
   "cell_type": "code",
   "execution_count": 2,
   "metadata": {},
   "outputs": [],
   "source": [
    "# Load PDF\n",
    "loaders = [\n",
    "    # Duplicate documents on purpose - messy data\n",
    "    PyPDFLoader(\"./docs/Criminai_Law_Ammendment_Act.pdf\"),\n",
    "    PyPDFLoader(\"./docs/Indian_Contract_Act.pdf\"),\n",
    "    PyPDFLoader(\"./docs/IPC-Act.pdf\"),\n",
    "    PyPDFLoader(\"./docs/The_Code_Of_Criminal_Procedure.pdf\"),\n",
    "    PyPDFLoader(\"./docs/The_Commissions_of_Inquiry_Act.pdf\"),\n",
    "    PyPDFLoader(\"./docs/The_constitution_of_India.pdf\")\n",
    "]\n",
    "docs = []\n",
    "for loader in loaders:\n",
    "    docs.extend(loader.load())"
   ]
  },
  {
   "cell_type": "code",
   "execution_count": 3,
   "metadata": {},
   "outputs": [
    {
     "data": {
      "text/plain": [
       "2111"
      ]
     },
     "execution_count": 3,
     "metadata": {},
     "output_type": "execute_result"
    }
   ],
   "source": [
    "# Split\n",
    "text_splitter = RecursiveCharacterTextSplitter(\n",
    "    chunk_size = 1500,\n",
    "    chunk_overlap = 150\n",
    ")\n",
    "\n",
    "splits = text_splitter.split_documents(docs)\n",
    "len(splits)"
   ]
  },
  {
   "cell_type": "code",
   "execution_count": 4,
   "metadata": {},
   "outputs": [
    {
     "name": "stdout",
     "output_type": "stream",
     "text": [
      "2111\n"
     ]
    }
   ],
   "source": [
    "# Vectorstore\n",
    "vectordb = Chroma.from_documents(\n",
    "    documents=splits,\n",
    "    persist_directory=persist_directory,\n",
    "    embedding=embedding\n",
    ")\n",
    "print(vectordb._collection.count())"
   ]
  },
  {
   "cell_type": "code",
   "execution_count": 6,
   "metadata": {},
   "outputs": [
    {
     "data": {
      "text/plain": [
       "3"
      ]
     },
     "execution_count": 6,
     "metadata": {},
     "output_type": "execute_result"
    }
   ],
   "source": [
    "# Similarity Search\n",
    "question = \"Acts related to cyber crime for leaking explicit content\"\n",
    "docs = vectordb.similarity_search(question,k=3)\n",
    "len(docs)"
   ]
  },
  {
   "cell_type": "code",
   "execution_count": 9,
   "metadata": {},
   "outputs": [
    {
     "data": {
      "text/plain": [
       "\"in a place which, in the circumstances, would reasonably be expected to provide privacy and where the \\nvictim's genitals, posterior or breasts are exposed or covered only in underwear; or the victim is using a \\nlavato ry; or the victim is doing a sexual act that is not of a kind ordinarily done in public.  \\nExplanation  2.—Where the victim consents to the capture of the images or any act, but not to their \\ndissemination to third persons and where such image or act is disseminated, such dissemination shall be \\nconsidered  an offence under this section.  \\n354D. Stalking .—(1) Any man who — \\n(i) follows a woman and contacts, or attempts to contact such woman to foster personal \\ninteraction repeatedly despite a clear indication of  disinterest by such woman; or  \\n(ii) monitors the use by a woman of the internet, email or any other form of electronic \\ncommunication,  \\ncommits the offence of stalking:  \\n  \\n                                                           \\n1. Subs. by Act 13 of 2013, s. 6, for “ shall be punished with imprisonment of either description for a term which may extend t o two years, or \\nwith fine, or with both” (w.e.f. 3 -2-2013).  \\n2. Ins. by s. 7, ibid. (w.e.f. 3 -2-2013).\""
      ]
     },
     "execution_count": 9,
     "metadata": {},
     "output_type": "execute_result"
    }
   ],
   "source": [
    "docs[0].page_content"
   ]
  },
  {
   "cell_type": "code",
   "execution_count": 10,
   "metadata": {},
   "outputs": [
    {
     "data": {
      "text/plain": [
       "'354. Assault of criminal force to woman with intent to outrage her modesty.  \\n354A. Sexual harassment and punishment for sexual harassment.  \\n354B. Assault or use of criminal force to woman w ith intent to disrobe.  \\n354C. Voy eurism.  \\n354D. Stalking . \\n355. Assault or criminal force with intent to dishonour person, otherwise than on grave provocation.  \\n356. Assault or criminal force in attempt to commit theft of property carried by a p erson.  \\n357. Assault or criminal force in attempt wrongfully to confine a person.  \\n358. Assault or criminal force on grave provocation.  \\nOf Kidnapping, Abduction, Slavery and Forced Labour  \\n359. Kidnapping.'"
      ]
     },
     "execution_count": 10,
     "metadata": {},
     "output_type": "execute_result"
    }
   ],
   "source": [
    "docs[1].page_content"
   ]
  },
  {
   "cell_type": "code",
   "execution_count": 11,
   "metadata": {},
   "outputs": [
    {
     "data": {
      "text/plain": [
       "'with imprisonment of either description for a term which may extend to one ye ar, or with fine, or with \\nboth.  \\n354B . Assault or use of criminal force t o woman with intent to di srobe .—Any man who assaults \\nor uses criminal force to any woman or abets such act with the intention of disrobing or compelling her to \\nbe naked, shall be punished with imprisonment of either description for a term which shall not be less \\nthan three years but which may extend to seven years, an d shall also be liable to fine.  \\n354C. Voyeurism .—Any man who watches, or captures the image of a woman engaging in a private \\nact in circumstances where she would usually have the expectation of not being observed eith er by the \\nperpetrator or by any other person at the behest of the perpetrator or disseminates such image shall be \\npunished on first conviction with imprisonment of either description for a term which shall not be less \\nthan one year, but which may extend to  three years, and shall also be liable to fine, and be punished on a \\nsecond or subsequent conviction, with imprisonment of either description for a term which shall not be \\nless than three years, but which may extend to seven years, and shall also be liable  to fine.  \\n Explanation  1.—For the purpose of this section, “private act ” includes an act of watching carried out \\nin a place which, in the circumstances, would reasonably be expected to provide privacy and where the'"
      ]
     },
     "execution_count": 11,
     "metadata": {},
     "output_type": "execute_result"
    }
   ],
   "source": [
    "docs[2].page_content"
   ]
  },
  {
   "cell_type": "code",
   "execution_count": 13,
   "metadata": {},
   "outputs": [
    {
     "name": "stdout",
     "output_type": "stream",
     "text": [
      "{'page': 79, 'source': './docs/IPC-Act.pdf'}\n",
      "{'page': 8, 'source': './docs/IPC-Act.pdf'}\n",
      "{'page': 79, 'source': './docs/IPC-Act.pdf'}\n"
     ]
    }
   ],
   "source": [
    "for doc in docs:\n",
    "    print(doc.metadata)"
   ]
  },
  {
   "cell_type": "code",
   "execution_count": 12,
   "metadata": {},
   "outputs": [],
   "source": [
    "# Saving for later use\n",
    "vectordb.persist()"
   ]
  }
 ],
 "metadata": {
  "kernelspec": {
   "display_name": "Python 3",
   "language": "python",
   "name": "python3"
  },
  "language_info": {
   "codemirror_mode": {
    "name": "ipython",
    "version": 3
   },
   "file_extension": ".py",
   "mimetype": "text/x-python",
   "name": "python",
   "nbconvert_exporter": "python",
   "pygments_lexer": "ipython3",
   "version": "3.9.9"
  }
 },
 "nbformat": 4,
 "nbformat_minor": 2
}
